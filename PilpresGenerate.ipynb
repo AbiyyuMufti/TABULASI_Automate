{
 "cells": [
  {
   "cell_type": "code",
   "execution_count": 2,
   "metadata": {},
   "outputs": [],
   "source": [
    "import polars as pl\n",
    "import pandas as pd"
   ]
  },
  {
   "cell_type": "code",
   "execution_count": 3,
   "metadata": {},
   "outputs": [
    {
     "data": {
      "text/html": [
       "<div><style>\n",
       ".dataframe > thead > tr,\n",
       ".dataframe > tbody > tr {\n",
       "  text-align: right;\n",
       "  white-space: pre-wrap;\n",
       "}\n",
       "</style>\n",
       "<small>shape: (75, 7)</small><table border=\"1\" class=\"dataframe\"><thead><tr><th>TPS</th><th>Putaran Berapa</th><th>Anies Rasyid Baswedan\n",
       "Abd Muhaimin Iskandar</th><th>Prabowo Subianto\n",
       "Gibran Rakabuming Raka</th><th>Ganjar Pranowo\n",
       "Moh. Mahfud MD</th><th>Jumlah Seluruh Suara Sah</th><th>Jumlah Suara Tidak Sah</th></tr><tr><td>str</td><td>i64</td><td>i64</td><td>i64</td><td>i64</td><td>i64</td><td>i64</td></tr></thead><tbody><tr><td>&quot;001&quot;</td><td>null</td><td>null</td><td>null</td><td>null</td><td>null</td><td>null</td></tr><tr><td>&quot;002&quot;</td><td>null</td><td>null</td><td>null</td><td>null</td><td>null</td><td>null</td></tr><tr><td>&quot;003&quot;</td><td>null</td><td>null</td><td>null</td><td>null</td><td>null</td><td>null</td></tr><tr><td>&quot;004&quot;</td><td>null</td><td>null</td><td>null</td><td>null</td><td>null</td><td>null</td></tr><tr><td>&quot;005&quot;</td><td>null</td><td>null</td><td>null</td><td>null</td><td>null</td><td>null</td></tr><tr><td>&quot;006&quot;</td><td>null</td><td>null</td><td>null</td><td>null</td><td>null</td><td>null</td></tr><tr><td>&quot;007&quot;</td><td>null</td><td>null</td><td>null</td><td>null</td><td>null</td><td>null</td></tr><tr><td>&quot;008&quot;</td><td>null</td><td>null</td><td>null</td><td>null</td><td>null</td><td>null</td></tr><tr><td>&quot;009&quot;</td><td>null</td><td>null</td><td>null</td><td>null</td><td>null</td><td>null</td></tr><tr><td>&quot;010&quot;</td><td>null</td><td>null</td><td>null</td><td>null</td><td>null</td><td>null</td></tr><tr><td>&quot;011&quot;</td><td>null</td><td>null</td><td>null</td><td>null</td><td>null</td><td>null</td></tr><tr><td>&quot;012&quot;</td><td>1</td><td>100</td><td>20</td><td>30</td><td>30</td><td>20</td></tr><tr><td>&hellip;</td><td>&hellip;</td><td>&hellip;</td><td>&hellip;</td><td>&hellip;</td><td>&hellip;</td><td>&hellip;</td></tr><tr><td>&quot;064&quot;</td><td>null</td><td>null</td><td>null</td><td>null</td><td>null</td><td>null</td></tr><tr><td>&quot;065&quot;</td><td>null</td><td>null</td><td>null</td><td>null</td><td>null</td><td>null</td></tr><tr><td>&quot;066&quot;</td><td>null</td><td>null</td><td>null</td><td>null</td><td>null</td><td>null</td></tr><tr><td>&quot;067&quot;</td><td>null</td><td>null</td><td>null</td><td>null</td><td>null</td><td>null</td></tr><tr><td>&quot;068&quot;</td><td>null</td><td>null</td><td>null</td><td>null</td><td>null</td><td>null</td></tr><tr><td>&quot;069&quot;</td><td>null</td><td>null</td><td>null</td><td>null</td><td>null</td><td>null</td></tr><tr><td>&quot;901&quot;</td><td>null</td><td>null</td><td>null</td><td>null</td><td>null</td><td>null</td></tr><tr><td>&quot;902&quot;</td><td>null</td><td>null</td><td>null</td><td>null</td><td>null</td><td>null</td></tr><tr><td>&quot;903&quot;</td><td>null</td><td>null</td><td>null</td><td>null</td><td>null</td><td>null</td></tr><tr><td>&quot;904&quot;</td><td>null</td><td>null</td><td>null</td><td>null</td><td>null</td><td>null</td></tr><tr><td>&quot;905&quot;</td><td>null</td><td>null</td><td>null</td><td>null</td><td>null</td><td>null</td></tr><tr><td>&quot;906&quot;</td><td>1</td><td>100</td><td>10</td><td>5</td><td>115</td><td>20</td></tr></tbody></table></div>"
      ],
      "text/plain": [
       "shape: (75, 7)\n",
       "┌─────┬─────────┬─────────────────┬───────────┬─────────────────┬─────────────────┬────────────────┐\n",
       "│ TPS ┆ Putaran ┆ Anies Rasyid    ┆ Prabowo   ┆ Ganjar Pranowo  ┆ Jumlah Seluruh  ┆ Jumlah Suara   │\n",
       "│ --- ┆ Berapa  ┆ Baswedan        ┆ Subianto  ┆ Moh. Mahfud MD  ┆ Suara Sah       ┆ Tidak Sah      │\n",
       "│ str ┆ ---     ┆ Abd Muhaim…     ┆ Gibran    ┆ ---             ┆ ---             ┆ ---            │\n",
       "│     ┆ i64     ┆ ---             ┆ Rakabumi… ┆ i64             ┆ i64             ┆ i64            │\n",
       "│     ┆         ┆ i64             ┆ ---       ┆                 ┆                 ┆                │\n",
       "│     ┆         ┆                 ┆ i64       ┆                 ┆                 ┆                │\n",
       "╞═════╪═════════╪═════════════════╪═══════════╪═════════════════╪═════════════════╪════════════════╡\n",
       "│ 001 ┆ null    ┆ null            ┆ null      ┆ null            ┆ null            ┆ null           │\n",
       "│ 002 ┆ null    ┆ null            ┆ null      ┆ null            ┆ null            ┆ null           │\n",
       "│ 003 ┆ null    ┆ null            ┆ null      ┆ null            ┆ null            ┆ null           │\n",
       "│ 004 ┆ null    ┆ null            ┆ null      ┆ null            ┆ null            ┆ null           │\n",
       "│ 005 ┆ null    ┆ null            ┆ null      ┆ null            ┆ null            ┆ null           │\n",
       "│ …   ┆ …       ┆ …               ┆ …         ┆ …               ┆ …               ┆ …              │\n",
       "│ 902 ┆ null    ┆ null            ┆ null      ┆ null            ┆ null            ┆ null           │\n",
       "│ 903 ┆ null    ┆ null            ┆ null      ┆ null            ┆ null            ┆ null           │\n",
       "│ 904 ┆ null    ┆ null            ┆ null      ┆ null            ┆ null            ┆ null           │\n",
       "│ 905 ┆ null    ┆ null            ┆ null      ┆ null            ┆ null            ┆ null           │\n",
       "│ 906 ┆ 1       ┆ 100             ┆ 10        ┆ 5               ┆ 115             ┆ 20             │\n",
       "└─────┴─────────┴─────────────────┴───────────┴─────────────────┴─────────────────┴────────────────┘"
      ]
     },
     "execution_count": 3,
     "metadata": {},
     "output_type": "execute_result"
    }
   ],
   "source": [
    "df = pl.read_csv('FormResponses/REAL COUNT PILPRES (Responses) - Form Responses 1.csv')\n",
    "\n",
    "import numpy as np\n",
    "tps = [{'TPS': str(n).zfill(3)} for n in [*np.arange(1,70), *np.arange(901, 907)]]\n",
    "\n",
    "columnSelect = [\n",
    "    'Nomor TPS',\n",
    "    'Putaran Berapa',\n",
    "    'Anies Rasyid Baswedan\\nAbd Muhaimin Iskandar',\n",
    "    'Prabowo Subianto\\nGibran Rakabuming Raka',\n",
    "    'Ganjar Pranowo\\nMoh. Mahfud MD',\n",
    "    'Jumlah Seluruh Suara Sah',\n",
    "    'Jumlah Suara Tidak Sah'\n",
    "]\n",
    "\n",
    "pl.DataFrame(tps).join(\n",
    "    df.with_columns(\n",
    "        pl.col('Nomor TPS').cast(pl.String).str.zfill(3)\n",
    "    ).select(columnSelect),\n",
    "    how='left', \n",
    "    left_on='TPS',\n",
    "    right_on='Nomor TPS'\n",
    ")\n",
    "# .to_pandas().transpose()"
   ]
  },
  {
   "cell_type": "code",
   "execution_count": null,
   "metadata": {},
   "outputs": [],
   "source": []
  }
 ],
 "metadata": {
  "kernelspec": {
   "display_name": "venv39",
   "language": "python",
   "name": "python3"
  },
  "language_info": {
   "codemirror_mode": {
    "name": "ipython",
    "version": 3
   },
   "file_extension": ".py",
   "mimetype": "text/x-python",
   "name": "python",
   "nbconvert_exporter": "python",
   "pygments_lexer": "ipython3",
   "version": "3.9.13"
  }
 },
 "nbformat": 4,
 "nbformat_minor": 2
}
